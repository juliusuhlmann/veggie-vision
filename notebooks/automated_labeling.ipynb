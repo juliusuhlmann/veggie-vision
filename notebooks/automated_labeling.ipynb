{
 "cells": [
  {
   "cell_type": "code",
   "execution_count": 3,
   "metadata": {},
   "outputs": [],
   "source": [
    "import os\n",
    "import pandas as pd\n",
    "import matplotlib.pyplot as plt\n",
    "import cv2  \n",
    "from PIL import Image"
   ]
  },
  {
   "cell_type": "markdown",
   "metadata": {},
   "source": [
    "# Rename & Rotate Images"
   ]
  },
  {
   "cell_type": "code",
   "execution_count": 5,
   "metadata": {},
   "outputs": [],
   "source": [
    "# Path to the folder containing the images\n",
    "folder_path = 'raw_pictures'\n",
    "\n",
    "# Get a list of all files in the folder\n",
    "files = os.listdir(folder_path)"
   ]
  },
  {
   "cell_type": "code",
   "execution_count": 11,
   "metadata": {},
   "outputs": [
    {
     "name": "stdout",
     "output_type": "stream",
     "text": [
      "Renaming and Rotation completed.\n"
     ]
    }
   ],
   "source": [
    "# Iterate through all the files and rename them sequentially\n",
    "for i, filename in enumerate(files, start=1):\n",
    "    if i > 597:\n",
    "        old_file_path = os.path.join(folder_path, filename)\n",
    "        \n",
    "        if os.path.isfile(old_file_path):\n",
    "            # Load the image\n",
    "            img = cv2.imread(old_file_path)\n",
    "            \n",
    "            # Get the dimensions of the image (height, width)\n",
    "            height, width = img.shape[:2]\n",
    "            \n",
    "            # If the image is in landscape mode (width > height), rotate it 90 degrees clockwise\n",
    "            if width > height:\n",
    "                img = cv2.rotate(img, cv2.ROTATE_90_CLOCKWISE)\n",
    "            \n",
    "            # Create the new filename with sequential numbering\n",
    "            new_filename = f'image{i}.jpg'\n",
    "            new_file_path = os.path.join(folder_path, new_filename)\n",
    "            \n",
    "            # Save the rotated (or unchanged) image with the new name\n",
    "            cv2.imwrite(new_file_path, img)\n",
    "            \n",
    "            # Optionally remove the old file if you don't need it anymore\n",
    "            if old_file_path != new_file_path:\n",
    "                os.remove(old_file_path)\n",
    "print(\"Renaming and Rotation completed.\")\n"
   ]
  },
  {
   "cell_type": "markdown",
   "metadata": {},
   "source": [
    "# Automatic Labeling"
   ]
  },
  {
   "cell_type": "code",
   "execution_count": 26,
   "metadata": {},
   "outputs": [],
   "source": [
    "# Get the list of image filenames and seperate filenames in batches of 25\n",
    "image_filenames = [f for f in os.listdir(folder_path) if f.endswith('.jpg')]\n",
    "batchsize = 25\n",
    "image_filenames_batches = [image_filenames[batchsize*i:batchsize*(i+1)] for i in range(len(image_filenames)//batchsize + 1)]\n",
    "\n",
    "# Initialize an empty list to store the filenames and labels\n",
    "data = []"
   ]
  },
  {
   "cell_type": "code",
   "execution_count": 27,
   "metadata": {},
   "outputs": [
    {
     "name": "stdout",
     "output_type": "stream",
     "text": [
      "Number of batches:  30\n"
     ]
    }
   ],
   "source": [
    "# image_filenames_batches contains batches of 25 filenames\n",
    "print(f\"Number of batches:  {len(image_filenames_batches)}\")"
   ]
  },
  {
   "cell_type": "code",
   "execution_count": 63,
   "metadata": {},
   "outputs": [],
   "source": [
    "for batch in image_filenames_batches:\n",
    "    # Loop through each image, display it, and input the label\n",
    "    for img_file in batch:\n",
    "        # Load the image using OpenCV (efficient image reading)\n",
    "        img_path = os.path.join(folder_path, img_file)\n",
    "        img = cv2.imread(img_path)\n",
    "        \n",
    "        # Convert from BGR to RGB for correct color display in PIL\n",
    "        img_rgb = cv2.cvtColor(img, cv2.COLOR_BGR2RGB)\n",
    "\n",
    "        # Create a PIL image object (efficient display with PIL)\n",
    "        pil_img = Image.fromarray(img_rgb)\n",
    "        \n",
    "        # Display the image using PIL\n",
    "        pil_img.show()\n",
    "\n",
    "        # Ask for the label input from the user\n",
    "        label = input(f\"Enter label for {img_file}: \")\n",
    "\n",
    "        # Append the filename and label to the list\n",
    "        data.append([img_file, label])\n",
    "        \n",
    "        # Close the PIL image window after displaying (PIL doesn’t auto-close windows)\n",
    "        pil_img.close()"
   ]
  },
  {
   "cell_type": "code",
   "execution_count": 65,
   "metadata": {},
   "outputs": [
    {
     "name": "stdout",
     "output_type": "stream",
     "text": [
      "Labeling complete.\n"
     ]
    }
   ],
   "source": [
    "# Create the DataFrame with the filename-label mapping\n",
    "df = pd.DataFrame(data, columns=['filename', 'label'])\n",
    "\n",
    "# Save the DataFrame to a CSV file for future use\n",
    "df.to_csv('labels.csv', index=False)\n",
    "\n",
    "print(\"Labeling complete.\")"
   ]
  }
 ],
 "metadata": {
  "kernelspec": {
   "display_name": "base",
   "language": "python",
   "name": "python3"
  },
  "language_info": {
   "codemirror_mode": {
    "name": "ipython",
    "version": 3
   },
   "file_extension": ".py",
   "mimetype": "text/x-python",
   "name": "python",
   "nbconvert_exporter": "python",
   "pygments_lexer": "ipython3",
   "version": "3.9.13"
  }
 },
 "nbformat": 4,
 "nbformat_minor": 2
}
